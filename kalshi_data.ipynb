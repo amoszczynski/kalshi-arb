{
 "cells": [
  {
   "cell_type": "code",
   "execution_count": 2,
   "metadata": {},
   "outputs": [],
   "source": [
    "import numpy as np\n",
    "import pandas as pd\n",
    "import pickle"
   ]
  },
  {
   "cell_type": "code",
   "execution_count": 9,
   "metadata": {},
   "outputs": [],
   "source": [
    "with open(\"kalshi_data.pkl\", \"rb\") as f:\n",
    "    kalshi_data = pickle.load(f)\n"
   ]
  },
  {
   "cell_type": "code",
   "execution_count": null,
   "metadata": {},
   "outputs": [],
   "source": [
    "# Accessing data for a specific year\n",
    "tickers = kalshi_data[2024][\"tickers\"]\n",
    "bid_df = kalshi_data[2024][\"bid\"]\n",
    "ask_df = kalshi_data[2024][\"ask\"]\n",
    "price_df = kalshi_data[2024][\"price\"]"
   ]
  },
  {
   "cell_type": "code",
   "execution_count": 11,
   "metadata": {},
   "outputs": [
    {
     "data": {
      "text/plain": [
       "['INXD-24DEC31-B3300',\n",
       " 'INXD-24DEC31-B3500',\n",
       " 'INXD-24DEC31-B3700',\n",
       " 'INXD-24DEC31-B3900',\n",
       " 'INXD-24DEC31-B4100',\n",
       " 'INXD-24DEC31-B4300',\n",
       " 'INXD-24DEC31-B4500',\n",
       " 'INXD-24DEC31-B4700',\n",
       " 'INXD-24DEC31-B4900',\n",
       " 'INXD-24DEC31-B5100',\n",
       " 'INXD-24DEC31-B5300',\n",
       " 'INXD-24DEC31-B5500',\n",
       " 'INXD-24DEC31-B5700']"
      ]
     },
     "execution_count": 11,
     "metadata": {},
     "output_type": "execute_result"
    }
   ],
   "source": [
    "tickers"
   ]
  }
 ],
 "metadata": {
  "kernelspec": {
   "display_name": "sl2",
   "language": "python",
   "name": "python3"
  },
  "language_info": {
   "codemirror_mode": {
    "name": "ipython",
    "version": 3
   },
   "file_extension": ".py",
   "mimetype": "text/x-python",
   "name": "python",
   "nbconvert_exporter": "python",
   "pygments_lexer": "ipython3",
   "version": "3.11.0"
  }
 },
 "nbformat": 4,
 "nbformat_minor": 2
}
