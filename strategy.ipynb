{
 "cells": [
  {
   "cell_type": "code",
   "execution_count": 54,
   "metadata": {},
   "outputs": [
    {
     "data": {
      "text/plain": [
       "<module 'RNDPricer' from '/Users/adammoszczynski/Desktop/research/Kalshi-Arb/RNDPricer.py'>"
      ]
     },
     "execution_count": 54,
     "metadata": {},
     "output_type": "execute_result"
    }
   ],
   "source": [
    "import numpy as np\n",
    "import pandas as pd\n",
    "import matplotlib.pyplot as plt\n",
    "from importlib import reload\n",
    "\n",
    "import RNDPricer as rnd\n",
    "reload(rnd)"
   ]
  },
  {
   "cell_type": "code",
   "execution_count": 55,
   "metadata": {},
   "outputs": [],
   "source": [
    "df = pd.read_csv('spx_w/eoy_chains.csv')\n",
    "df.sort_values(['quote', 'strike'], inplace=True)\n",
    "days = df['quote'].unique().tolist()"
   ]
  },
  {
   "cell_type": "code",
   "execution_count": 56,
   "metadata": {},
   "outputs": [
    {
     "name": "stdout",
     "output_type": "stream",
     "text": [
      "data error on day 2022-06-07\n"
     ]
    }
   ],
   "source": [
    "# go through each trading day and ensure everything works\n",
    "for day in days:\n",
    "    try:\n",
    "        rndp = rnd.RNDPricer(df[df['quote'] == day])\n",
    "    except ValueError:\n",
    "        print(f'data error on day {day}')"
   ]
  },
  {
   "cell_type": "markdown",
   "metadata": {},
   "source": [
    "### Strategy\n",
    "to be adjusted"
   ]
  },
  {
   "cell_type": "code",
   "execution_count": null,
   "metadata": {},
   "outputs": [],
   "source": [
    "def get_kalshi_price():\n",
    "    # placeholder\n",
    "    return 0.2\n",
    "\n",
    "def find_ic(chain, lower_strike=5000, upper_strike=5200):\n",
    "    \n",
    "    # put credit spread\n",
    "    buy_put_k = 4995\n",
    "    sell_put_k = 5000\n",
    "    \n",
    "    # call credit spread\n",
    "    buy_call_k = 5200\n",
    "    sell_call_k = 5205\n",
    "    \n",
    "    def get_quote(strike, option_type):\n",
    "        row = \n"
   ]
  }
 ],
 "metadata": {
  "kernelspec": {
   "display_name": "sl2",
   "language": "python",
   "name": "python3"
  },
  "language_info": {
   "codemirror_mode": {
    "name": "ipython",
    "version": 3
   },
   "file_extension": ".py",
   "mimetype": "text/x-python",
   "name": "python",
   "nbconvert_exporter": "python",
   "pygments_lexer": "ipython3",
   "version": "3.11.0"
  }
 },
 "nbformat": 4,
 "nbformat_minor": 2
}
